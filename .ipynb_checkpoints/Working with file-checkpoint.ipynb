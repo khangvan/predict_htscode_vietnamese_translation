{
 "cells": [
  {
   "cell_type": "code",
   "execution_count": 2,
   "metadata": {},
   "outputs": [],
   "source": [
    "# !pip install xlrd"
   ]
  },
  {
   "cell_type": "code",
   "execution_count": 26,
   "metadata": {},
   "outputs": [
    {
     "name": "stdout",
     "output_type": "stream",
     "text": [
      "18414\n"
     ]
    }
   ],
   "source": [
    "import xlrd \n",
    "  \n",
    "# Give the location of the file \n",
    "loc = (f\"g:\\Document Control\\Internal Document\\Description VI & HS Code\\DescriptionVI & HS Code 2018_test.xlsx\") \n",
    "  \n",
    "wb = xlrd.open_workbook(loc) \n",
    "sheet = wb.sheet_by_index(0) \n",
    "sheet.cell_value(0, 0) \n",
    "  \n",
    "# Extracting number of rows \n",
    "print(sheet.nrows) "
   ]
  },
  {
   "cell_type": "code",
   "execution_count": 13,
   "metadata": {},
   "outputs": [
    {
     "name": "stdout",
     "output_type": "stream",
     "text": [
      "NO\n",
      "PARTNUMBER\n",
      "DESCRIPTIONEN\n",
      "DESCRIPTIONVI\n",
      "MATERIALTYPE\n",
      "HTS CODE\n",
      "Material Group\n",
      "Sub-Group\n",
      "Is OK For HS VI?\n",
      "WorkCenter\n",
      "SerialProfile\n",
      "Man\n",
      "Labor\n",
      "Unit\n",
      "Engineer\n",
      "Is Routing OK?\n",
      "DATE\n",
      "USES\n",
      "DRAFT (NOT OFFICAL HS CODE)\n",
      "LG HSCODE (BEFORE NEW RULE)\n"
     ]
    }
   ],
   "source": [
    "# For row 0 and column 0 \n",
    "sheet.cell_value(0, 0) \n",
    "  \n",
    "for i in range(sheet.ncols): \n",
    "    print(sheet.cell_value(0, i))"
   ]
  },
  {
   "cell_type": "code",
   "execution_count": 43,
   "metadata": {},
   "outputs": [],
   "source": [
    "from openpyxl import Workbook\n",
    "from openpyxl.utils.dataframe import dataframe_to_rows\n",
    "\n",
    "loc = (f\"g:\\Document Control\\Internal Document\\Description VI & HS Code\\DescriptionVI & HS Code 2018_test.xlsx\")\n",
    "from openpyxl import load_workbook\n"
   ]
  },
  {
   "cell_type": "code",
   "execution_count": 32,
   "metadata": {},
   "outputs": [
    {
     "name": "stdout",
     "output_type": "stream",
     "text": [
      "version openpyxl: 2.5.12\n"
     ]
    }
   ],
   "source": [
    "print(\"version openpyxl: \" +openpyxl.__version__)"
   ]
  },
  {
   "cell_type": "code",
   "execution_count": 44,
   "metadata": {},
   "outputs": [],
   "source": [
    "#need re load each change spreadsheet\n",
    "wb = load_workbook(loc, data_only=True)"
   ]
  },
  {
   "cell_type": "code",
   "execution_count": 45,
   "metadata": {},
   "outputs": [
    {
     "name": "stdout",
     "output_type": "stream",
     "text": [
      "['Master-HSCode-VI', 'New Rule', 'LG CHECK', 'Dim_HSCode', 'Global HS code (VN)', 'RuleLG', 'HS2019Change', 'Sheet1']\n",
      "18415\n",
      "khang go\n"
     ]
    }
   ],
   "source": [
    "\n",
    "print(wb.sheetnames)\n",
    "sheet_ranges = wb['Master-HSCode-VI']\n",
    "\n",
    "\n",
    "\n",
    "# find range \n",
    "sheet = wb.active\n",
    "last_row = sheet.max_row\n",
    "\n",
    "# while sheet.cell(column=1, row=last_row).value is None and last_row > 0:\n",
    "#     last_row -= 1\n",
    "# last_col_a_value = sheet.cell(column=1, row=last_row).value\n",
    "\n",
    "print(last_row)\n",
    "print(sheet_ranges['B'+str(last_row)].value)"
   ]
  }
 ],
 "metadata": {
  "kernelspec": {
   "display_name": "Python 3",
   "language": "python",
   "name": "python3"
  },
  "language_info": {
   "codemirror_mode": {
    "name": "ipython",
    "version": 3
   },
   "file_extension": ".py",
   "mimetype": "text/x-python",
   "name": "python",
   "nbconvert_exporter": "python",
   "pygments_lexer": "ipython3",
   "version": "3.7.1"
  }
 },
 "nbformat": 4,
 "nbformat_minor": 2
}
