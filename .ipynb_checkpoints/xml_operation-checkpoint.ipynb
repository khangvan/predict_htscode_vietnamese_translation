{
 "cells": [
  {
   "cell_type": "code",
   "execution_count": 1,
   "metadata": {},
   "outputs": [],
   "source": [
    "import xml.etree.ElementTree as ET"
   ]
  },
  {
   "cell_type": "code",
   "execution_count": 4,
   "metadata": {},
   "outputs": [
    {
     "name": "stdout",
     "output_type": "stream",
     "text": [
      "Item #2 attribute:\n",
      "expertise2\n",
      "\n",
      "All attributes:\n",
      "expertise1\n",
      "expertise2\n",
      "\n",
      "Item #2 data:\n",
      "Python\n",
      "Python\n",
      "\n",
      "All item data:\n",
      "SQL\n",
      "Python\n"
     ]
    }
   ],
   "source": [
    "from urllib.request import urlopen\n",
    "from xml.etree.ElementTree import parse\n",
    "\n",
    "# <data>\n",
    "#    <items>\n",
    "#       <item name=\"expertise1\">SQL</item>\n",
    "#       <item name=\"expertise2\">Python</item>\n",
    "#    </items>\n",
    "# </data>\n",
    "from xml.dom import minidom\n",
    "\n",
    "# parse an xml file by name\n",
    "mydoc = minidom.parse('items.xml')\n",
    "\n",
    "items = mydoc.getElementsByTagName('item')\n",
    "\n",
    "# one specific item attribute\n",
    "print('Item #2 attribute:')\n",
    "print(items[1].attributes['name'].value)\n",
    "\n",
    "# all item attributes\n",
    "print('\\nAll attributes:')\n",
    "for elem in items:\n",
    "    print(elem.attributes['name'].value)\n",
    "\n",
    "# one specific item's data\n",
    "print('\\nItem #2 data:')\n",
    "print(items[1].firstChild.data)\n",
    "print(items[1].childNodes[0].data)\n",
    "\n",
    "# all items data\n",
    "print('\\nAll item data:')\n",
    "for elem in items:\n",
    "    print(elem.firstChild.data)"
   ]
  },
  {
   "cell_type": "code",
   "execution_count": 72,
   "metadata": {},
   "outputs": [
    {
     "name": "stdout",
     "output_type": "stream",
     "text": [
      "http://home/saplink/PRD/default.asp?XDoc=%0A%3CZ_DMS_MATERIAL_INFO%3E%0A%3CLANG%3EE%3C%2FLANG%3E%0A%3CWERKS%3E%3C%2FWERKS%3E%0A%3CVALIDON%3E03%2F23%2F2015%3C%2FVALIDON%3E%0A%3CMATNR%3EGD4130-BK%3C%2FMATNR%3E%0A%3C%2FZ_DMS_MATERIAL_INFO%3E%0A\n",
      "GRYPHON D4130-BLACK,Corded,1D, Multi I/F\n",
      "run in seconds: 2.4717743396759033\n"
     ]
    }
   ],
   "source": [
    "import xml.etree.ElementTree as ET\n",
    "\n",
    "from urllib.request import urlopen\n",
    "from xml.etree.ElementTree import parse\n",
    "import time \n",
    "\n",
    "start=time.time()\n",
    "material='GD4130-BK'\n",
    "# tree = ET.parse('saplink.xml')\n",
    "tag=fr'''\n",
    "<Z_DMS_MATERIAL_INFO>\n",
    "<LANG>E</LANG>\n",
    "<WERKS></WERKS>\n",
    "<VALIDON>03/23/2015</VALIDON>\n",
    "<MATNR>{material}</MATNR>\n",
    "</Z_DMS_MATERIAL_INFO>\n",
    "'''\n",
    "encodetag=urllib.parse.quote_plus(tag)\n",
    "\n",
    "query='http://home/saplink/PRD/default.asp?XDoc='\n",
    "import urllib.parse\n",
    "url =query+encodetag\n",
    "print(url)\n",
    "\n",
    "var_url = urlopen(url)\n",
    "tree = parse(var_url)\n",
    "\n",
    "# tree = ET.parse(url)\n",
    "root = tree.getroot()\n",
    "root.tag\n",
    "# for child in root:\n",
    "#     print(child.tag, child.attrib)\n",
    "\n",
    "# [elem.tag for elem in root.iter()]\n",
    "\n",
    "for description in root.iter('DESCRIPTION'):\n",
    "    print(description.text)\n",
    "    \n",
    "print(\"run in seconds: %s\" % str(time.time()-start))"
   ]
  },
  {
   "cell_type": "code",
   "execution_count": 58,
   "metadata": {},
   "outputs": [
    {
     "name": "stdout",
     "output_type": "stream",
     "text": [
      "HDL,APP CODE,MR2.2.2,MGL9800i           \n"
     ]
    }
   ],
   "source": []
  }
 ],
 "metadata": {
  "kernelspec": {
   "display_name": "Python 3",
   "language": "python",
   "name": "python3"
  },
  "language_info": {
   "codemirror_mode": {
    "name": "ipython",
    "version": 3
   },
   "file_extension": ".py",
   "mimetype": "text/x-python",
   "name": "python",
   "nbconvert_exporter": "python",
   "pygments_lexer": "ipython3",
   "version": "3.7.1"
  }
 },
 "nbformat": 4,
 "nbformat_minor": 2
}
